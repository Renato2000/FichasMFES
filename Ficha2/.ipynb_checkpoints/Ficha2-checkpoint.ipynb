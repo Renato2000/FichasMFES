{
 "cells": [
  {
   "cell_type": "markdown",
   "metadata": {},
   "source": [
    "# Exercicio 1\n",
    "\n",
    "User(-), Photo(-), Ad(-), sees(-, -), posts(-, -), follows(-, -)\n"
   ]
  },
  {
   "cell_type": "markdown",
   "metadata": {},
   "source": [
    "# Exercicio 2\n",
    "\n",
    "1. \n",
    "\n",
    " User(-), Photo(-), Ad(-), Influencer(-), Date(-), follows(-, -), suggested(-, -), sees(-, -), date(-, -), posts(-, -)\n",
    "    <ul>\n",
    "2. a)\n",
    "\n",
    "    $\\forall$ x Add(x) $\\rightarrow$ Photo(x)\n",
    "    \n",
    "    $\\forall$ x Influencer(x) $\\rightarrow$ User(x)\n",
    "\n",
    "   b)\n",
    "    \n",
    "    $\\forall$ x User(x) $\\leftrightarrow$ $\\neg$ Photo(x) $\\land$ $\\neg$ Day(x)\n",
    "\n",
    "   c) ---\n",
    " \n",
    "   d)\n",
    "    \n",
    "    $\\forall$ x,y follow(x,y) $\\rightarrow$ User(x) $\\land$ User(y)\n",
    "    \n",
    "    $\\forall$ x,y suggested(x,y) $\\rightarrow$ User(x) $\\land$ User(y)\n",
    "    \n",
    "    $\\forall$ x,y sees(x,y) $\\rightarrow$ User(x) $\\land$ Photo(y)\n",
    "    \n",
    "    $\\forall$ x,y date(x,y) $\\rightarrow$ Photo(x) $\\land$ Date(y)\n",
    "    \n",
    "    $\\forall$ x,y posts(x,y) $\\rightarrow$ User(x) $\\land$ Photo(y)\n",
    "\n",
    "   e)\n",
    "    \n",
    "    ($\\forall$ y Photo(y) $\\rightarrow$ $\\exists$ x posts(x,y)) $\\land$ ($\\forall$ x,y,z posts(x,z) $\\land$ posts(y,z) $\\rightarrow$ x = y)\n",
    "    \n",
    "    ($\\forall$ x Photo(x) $\\rightarrow$ $\\exists$ y date(x,y)) $\\land$ ($\\forall$ x,y,z date(z,x) $\\land$ date(z,y) $\\rightarrow$ x = y)\n",
    "\n",
    "   f)\n",
    "    \n",
    "    $\\forall$ y Influencer(y) -> ($\\forall$ x follows(x,y) $\\land$ x $\\ne$ y)\n",
    "    \n",
    "    ou $\\forall$ y Influencer(y) -> ($\\forall$ x User(x) $\\land$ x $\\ne$ y $\\rightarrow$ follows(x,y))\n",
    "    \n",
    "3. a)\n",
    "    \n",
    "   b)\n",
    "    \n",
    "   c)"
   ]
  },
  {
   "cell_type": "markdown",
   "metadata": {},
   "source": [
    "# Exercicio 3\n",
    "\n",
    "1.\n",
    "\n",
    "2. a)\n",
    "\n",
    "   b)\n",
    "   \n",
    "   c)\n",
    "   \n",
    "   d)\n",
    "   \n",
    "   e)\n",
    "   \n",
    "   f)\n"
   ]
  }
 ],
 "metadata": {
  "kernelspec": {
   "display_name": "Python 3 (ipykernel)",
   "language": "python",
   "name": "python3"
  },
  "language_info": {
   "codemirror_mode": {
    "name": "ipython",
    "version": 3
   },
   "file_extension": ".py",
   "mimetype": "text/x-python",
   "name": "python",
   "nbconvert_exporter": "python",
   "pygments_lexer": "ipython3",
   "version": "3.8.10"
  }
 },
 "nbformat": 4,
 "nbformat_minor": 2
}
